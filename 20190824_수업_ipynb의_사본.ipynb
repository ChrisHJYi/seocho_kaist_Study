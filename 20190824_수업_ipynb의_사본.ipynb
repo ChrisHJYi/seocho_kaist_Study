{
  "nbformat": 4,
  "nbformat_minor": 0,
  "metadata": {
    "colab": {
      "name": "20190824_수업.ipynb의 사본",
      "provenance": [],
      "collapsed_sections": [],
      "include_colab_link": true
    },
    "kernelspec": {
      "name": "python3",
      "display_name": "Python 3"
    }
  },
  "cells": [
    {
      "cell_type": "markdown",
      "metadata": {
        "id": "view-in-github",
        "colab_type": "text"
      },
      "source": [
        "<a href=\"https://colab.research.google.com/github/ChrisHJYi/seocho_kaist_Study/blob/master/20190824_%EC%88%98%EC%97%85_ipynb%EC%9D%98_%EC%82%AC%EB%B3%B8.ipynb\" target=\"_parent\"><img src=\"https://colab.research.google.com/assets/colab-badge.svg\" alt=\"Open In Colab\"/></a>"
      ]
    },
    {
      "cell_type": "code",
      "metadata": {
        "id": "7sn_kyfz7Tdg",
        "colab_type": "code",
        "colab": {}
      },
      "source": [
        "import numpy as np"
      ],
      "execution_count": 0,
      "outputs": []
    },
    {
      "cell_type": "code",
      "metadata": {
        "id": "5i_PPEd57U-Z",
        "colab_type": "code",
        "outputId": "32311fe6-25a7-4478-863e-5937139e485f",
        "colab": {
          "base_uri": "https://localhost:8080/",
          "height": 36
        }
      },
      "source": [
        "print(\"TEST\")"
      ],
      "execution_count": 0,
      "outputs": [
        {
          "output_type": "stream",
          "text": [
            "TEST\n"
          ],
          "name": "stdout"
        }
      ]
    },
    {
      "cell_type": "code",
      "metadata": {
        "id": "iQxEbK3s7hYH",
        "colab_type": "code",
        "colab": {}
      },
      "source": [
        "import matplotlib.pyplot as plt"
      ],
      "execution_count": 0,
      "outputs": []
    },
    {
      "cell_type": "code",
      "metadata": {
        "id": "17jUqlrJ7poc",
        "colab_type": "code",
        "colab": {}
      },
      "source": [
        "study_time_lst = [5, 2, 12, 8, 15, 10, 11, 17, 7.5, 3]\n",
        "score_lst = [60, 40, 96, 72, 100, 98, 89, 96, 80, 30]"
      ],
      "execution_count": 0,
      "outputs": []
    },
    {
      "cell_type": "code",
      "metadata": {
        "id": "id31q9HBCz1_",
        "colab_type": "code",
        "outputId": "13c558ad-d5cc-488f-f8e5-0fc78e79e3f0",
        "colab": {
          "base_uri": "https://localhost:8080/",
          "height": 269
        }
      },
      "source": [
        "plt.plot(study_time_lst, score_lst, 'ro')\n",
        "plt.show()"
      ],
      "execution_count": 0,
      "outputs": [
        {
          "output_type": "display_data",
          "data": {
            "image/png": "[encoded data removed]",
            "text/plain": [
              "<Figure size 432x288 with 1 Axes>"
            ]
          },
          "metadata": {
            "tags": []
          }
        }
      ]
    },
    {
      "cell_type": "code",
      "metadata": {
        "id": "gp9H5NJ3C1BV",
        "colab_type": "code",
        "colab": {}
      },
      "source": [
        "import random\n",
        "\n",
        "theta = [random.random(), random.random()]\n",
        "data_cnt = len(study_time_lst)\n"
      ],
      "execution_count": 0,
      "outputs": []
    },
    {
      "cell_type": "code",
      "metadata": {
        "id": "veu-AVtzC3jd",
        "colab_type": "code",
        "colab": {}
      },
      "source": [
        "lr = 0.001\n",
        "total_epoch = 200"
      ],
      "execution_count": 0,
      "outputs": []
    },
    {
      "cell_type": "code",
      "metadata": {
        "id": "PEtfZNnRC378",
        "colab_type": "code",
        "colab": {}
      },
      "source": [
        "for i in range(total_epoch):\n",
        "    theta_0 = theta[0]\n",
        "    theta_1 = theta[1]\n",
        "    \n",
        "    err_lst = []\n",
        "    \n",
        "    for x, y in zip(study_time_lst, score_lst):\n",
        "        err_lst.append(y - theta_0 - theta_1 * x)\n",
        "    \n",
        "    theta_0_grad = (-2 / data_cnt) * sum(err_lst)\n",
        "    \n",
        "    err_lst = []\n",
        "    \n",
        "    for x, y in zip(study_time_lst, score_lst):\n",
        "        err_lst.append((y - theta_0 - theta_1 * x) * x)\n",
        "    \n",
        "    theta_1_grad = (-2 / data_cnt) * sum(err_lst)\n",
        "    \n",
        "    theta[0] = theta[0] - lr * theta_0_grad\n",
        "    theta[1] = theta[1] - lr * theta_1_grad"
      ],
      "execution_count": 0,
      "outputs": []
    },
    {
      "cell_type": "code",
      "metadata": {
        "id": "TS4UN9HRDf69",
        "colab_type": "code",
        "outputId": "1b1eccae-ccf5-4918-9bd6-a0cd8ef7e51e",
        "colab": {
          "base_uri": "https://localhost:8080/",
          "height": 35
        }
      },
      "source": [
        "print(theta)"
      ],
      "execution_count": 0,
      "outputs": [
        {
          "output_type": "stream",
          "text": [
            "[3.9646728284460315, 7.265152914430562]\n"
          ],
          "name": "stdout"
        }
      ]
    },
    {
      "cell_type": "code",
      "metadata": {
        "id": "iQQJDMU1Fukk",
        "colab_type": "code",
        "outputId": "ddaa63cb-5603-462d-c27f-cce048a56aba",
        "colab": {
          "base_uri": "https://localhost:8080/",
          "height": 269
        }
      },
      "source": [
        "study_time_lst = [5, 2, 12, 8, 15, 10, 11, 17, 7.5, 3]\n",
        "score_lst = [60, 40, 96, 72, 100, 98, 89, 96, 80, 30]\n",
        "\n",
        "plt.plot(study_time_lst, score_lst, 'ro')\n",
        "plt.plot(study_time_lst, [s * theta[1] + theta[0] for s in study_time_lst])\n",
        "\n",
        "plt.show()\n"
      ],
      "execution_count": 0,
      "outputs": [
        {
          "output_type": "display_data",
          "data": {
            "image/png": "[encoded data removed]",
            "text/plain": [
              "<Figure size 432x288 with 1 Axes>"
            ]
          },
          "metadata": {
            "tags": []
          }
        }
      ]
    },
    {
      "cell_type": "code",
      "metadata": {
        "id": "e65OUVq0FwcD",
        "colab_type": "code",
        "outputId": "9c92e81a-25c3-45f9-ab37-7e92f7668c19",
        "colab": {
          "base_uri": "https://localhost:8080/",
          "height": 269
        }
      },
      "source": [
        "num_points = 1000\n",
        "x_data = []\n",
        "y_data = []\n",
        "\n",
        "for i in range(num_points):\n",
        "  x = np.random.normal(0.0, 0.55)\n",
        "  y = 0.3 + x * 0.1 + np.random.normal(0.0, 0.03)\n",
        "  \n",
        "  x_data.append(x)\n",
        "  y_data.append(y)\n",
        "\n",
        "  \n",
        "plt.plot(x_data, y_data, 'ro')\n",
        "plt.show()"
      ],
      "execution_count": 0,
      "outputs": [
        {
          "output_type": "display_data",
          "data": {
            "image/png": "[encoded data removed]",
            "text/plain": [
              "<Figure size 432x288 with 1 Axes>"
            ]
          },
          "metadata": {
            "tags": []
          }
        }
      ]
    },
    {
      "cell_type": "code",
      "metadata": {
        "id": "7finUXtDQDyP",
        "colab_type": "code",
        "colab": {}
      },
      "source": [
        "import random\n",
        "\n",
        "theta = [random.random(), random.random()]\n",
        "data_cnt = 1000\n"
      ],
      "execution_count": 0,
      "outputs": []
    },
    {
      "cell_type": "code",
      "metadata": {
        "id": "iCCHNz2_QHgO",
        "colab_type": "code",
        "colab": {}
      },
      "source": [
        "lr = 0.01\n",
        "total_epoch = 200"
      ],
      "execution_count": 0,
      "outputs": []
    },
    {
      "cell_type": "code",
      "metadata": {
        "id": "LaV2D-R_QMj9",
        "colab_type": "code",
        "outputId": "2dc804ff-adc9-4d7c-cb76-86cd1b639a51",
        "colab": {
          "base_uri": "https://localhost:8080/",
          "height": 1000
        }
      },
      "source": [
        "for i in range(total_epoch):\n",
        "    \n",
        "    theta_0 = theta[0]\n",
        "    theta_1 = theta[1]\n",
        "    \n",
        "    loss = sum([(y - theta_0 - theta_1 * x) ** 2 for x, y in zip(x_data, y_data)]) / data_cnt\n",
        "    \n",
        "    if (i + 1) % 10 == 0:\n",
        "        print(loss)\n",
        "    \n",
        "    print(loss)\n",
        "    \n",
        "    err_lst = []\n",
        "    \n",
        "    for x, y in zip(x_data, y_data):\n",
        "        err_lst.append(y - theta_0 - theta_1 * x)\n",
        "    \n",
        "    theta_0_grad = (-2 / data_cnt) * sum(err_lst)\n",
        "    \n",
        "    err_lst = []\n",
        "    \n",
        "    for x, y in zip(x_data, y_data):\n",
        "        err_lst.append((y - theta_0 - theta_1 * x) * x)\n",
        "    \n",
        "    theta_1_grad = (-2 / data_cnt) * sum(err_lst)\n",
        "    \n",
        "    theta[0] = theta[0] - lr * theta_0_grad\n",
        "    theta[1] = theta[1] - lr * theta_1_grad"
      ],
      "execution_count": 0,
      "outputs": [
        {
          "output_type": "stream",
          "text": [
            "0.0025529082649858046\n",
            "0.002532441499196679\n",
            "0.0025122283060271975\n",
            "0.0024922655438439547\n",
            "0.0024725501099367693\n",
            "0.002453078940036413\n",
            "0.0024338490078384\n",
            "0.0024148573245325556\n",
            "0.002396100938338544\n",
            "0.0023775769340470473\n",
            "0.0023775769340470473\n",
            "0.002359282432566693\n",
            "0.0023412145904765577\n",
            "0.00232337059958423\n",
            "0.002305747686489354\n",
            "0.0022883431121525567\n",
            "0.0022711541714697634\n",
            "0.002254178192851738\n",
            "0.0022374125378088294\n",
            "0.0022208546005409386\n",
            "0.0022045018075324673\n",
            "0.0022045018075324673\n",
            "0.002188351617152337\n",
            "0.0021724015192589744\n",
            "0.0021566490348101527\n",
            "0.0021410917154777\n",
            "0.0021257271432669656\n",
            "0.002110552930140995\n",
            "0.0020955667176493775\n",
            "0.002080766176561677\n",
            "0.002066149006505428\n",
            "0.0020517129356085813\n",
            "0.0020517129356085813\n",
            "0.0020374557201464035\n",
            "0.0020233751441927584\n",
            "0.0020094690192756755\n",
            "0.0019957351840372358\n",
            "0.001982171503897601\n",
            "0.0019687758707232924\n",
            "0.001955546202499508\n",
            "0.0019424804430065287\n",
            "0.0019295765615001295\n",
            "0.0019168325523959545\n",
            "0.0019168325523959545\n",
            "0.0019042464349578148\n",
            "0.001891816252989799\n",
            "0.0018795400745322578\n",
            "0.0018674159915615224\n",
            "0.0018554421196933341\n",
            "0.001843616597890001\n",
            "0.0018319375881711143\n",
            "0.0018204032753278883\n",
            "0.0018090118666410397\n",
            "0.0017977615916021372\n",
            "0.0017977615916021372\n",
            "0.0017866507016384404\n",
            "0.0017756774698411237\n",
            "0.0017648401906968584\n",
            "0.0017541371798227424\n",
            "0.0017435667737045108\n",
            "0.0017331273294379757\n",
            "0.001722817224473681\n",
            "0.0017126348563647129\n",
            "0.0017025786425176545\n",
            "0.0016926470199465958\n",
            "0.0016926470199465958\n",
            "0.0016828384450302124\n",
            "0.0016731513932718458\n",
            "0.0016635843590625645\n",
            "0.00165413585544715\n",
            "0.0016448044138929912\n",
            "0.0016355885840618322\n",
            "0.001626486933584357\n",
            "0.0016174980478375635\n",
            "0.0016086205297248923\n",
            "0.0015998529994590957\n",
            "0.0015998529994590957\n",
            "0.0015911940943477629\n",
            "0.0015826424685815473\n",
            "0.0015741967930249724\n",
            "0.0015658557550098657\n",
            "0.0015576180581313376\n",
            "0.0015494824220462782\n",
            "0.0015414475822743596\n",
            "0.0015335122900015212\n",
            "0.0015256753118858585\n",
            "0.0015179354298659276\n",
            "0.0015179354298659276\n",
            "0.001510291440971443\n",
            "0.0015027421571362871\n",
            "0.0014952864050138805\n",
            "0.0014879230257947814\n",
            "0.0014806508750266094\n",
            "0.0014734688224361551\n",
            "0.001466375751753709\n",
            "0.001459370560539554\n",
            "0.0014524521600126398\n",
            "0.001445619474881346\n",
            "0.001445619474881346\n",
            "0.0014388714431763636\n",
            "0.0014322070160856177\n",
            "0.0014256251577912926\n",
            "0.0014191248453087973\n",
            "0.0014127050683278074\n",
            "0.0014063648290552082\n",
            "0.001400103142060025\n",
            "0.0013939190341202689\n",
            "0.0013878115440716628\n",
            "0.0013817797226582604\n",
            "0.0013817797226582604\n",
            "0.0013758226323848947\n",
            "0.0013699393473714852\n",
            "0.0013641289532091308\n",
            "0.0013583905468179688\n",
            "0.0013527232363068447\n",
            "0.0013471261408346561\n",
            "0.0013415983904734787\n",
            "0.0013361391260733326\n",
            "0.001330747499128672\n",
            "0.0013254226716464931\n",
            "0.0013254226716464931\n",
            "0.0013201638160160805\n",
            "0.0013149701148803975\n",
            "0.0013098407610090332\n",
            "0.0013047749571727424\n",
            "0.001299771916019541\n",
            "0.0012948308599523204\n",
            "0.0012899510210080073\n",
            "0.0012851316407381844\n",
            "0.0012803719700912176\n",
            "0.0012756712692958373\n",
            "0.0012756712692958373\n",
            "0.0012710288077461573\n",
            "0.0012664438638881209\n",
            "0.001261915725107339\n",
            "0.0012574436876183676\n",
            "0.0012530270563552758\n",
            "0.0012486651448636572\n",
            "0.0012443572751939132\n",
            "0.0012401027777958844\n",
            "0.001235900991414802\n",
            "0.0012317512629884918\n",
            "0.0012317512629884918\n",
            "0.0012276529475458815\n",
            "0.0012236054081067617\n",
            "0.0012196080155827712\n",
            "0.001215660148679633\n",
            "0.001211761193800584\n",
            "0.0012079105449510044\n",
            "0.0012041076036442256\n",
            "0.001200351778808537\n",
            "0.001196642486695284\n",
            "0.0011929791507881646\n",
            "0.0011929791507881646\n",
            "0.0011893612017136066\n",
            "0.0011857880771522931\n",
            "0.0011822592217517389\n",
            "0.0011787740870399946\n",
            "0.0011753321313403944\n",
            "0.001171932819687367\n",
            "0.0011685756237432817\n",
            "0.0011652600217163388\n",
            "0.0011619854982794719\n",
            "0.0011587515444902515\n",
            "0.0011587515444902515\n",
            "0.0011555576577117691\n",
            "0.0011524033415345417\n",
            "0.0011492881056993313\n",
            "0.0011462114660209686\n",
            "0.0011431729443130729\n",
            "0.001140172068313755\n",
            "0.0011372083716122098\n",
            "0.0011342813935762079\n",
            "0.0011313906792805226\n",
            "0.0011285357794362093\n",
            "0.0011285357794362093\n",
            "0.0011257162503207896\n",
            "0.0011229316537092664\n",
            "0.0011201815568060325\n",
            "0.001117465532177586\n",
            "0.0011147831576861099\n",
            "0.001112134016423847\n",
            "0.001109517696648329\n",
            "0.001106933791718341\n",
            "0.0011043819000307585\n",
            "0.0011018616249581054\n",
            "0.0011018616249581054\n",
            "0.0010993725747869146\n",
            "0.0010969143626568454\n",
            "0.0010944866065005585\n",
            "0.0010920889289843274\n",
            "0.0010897209574493964\n",
            "0.001087382323854062\n",
            "0.00108507266471646\n",
            "0.0010827916210580807\n",
            "0.001080538838347977\n",
            "0.0010783139664476472\n",
            "0.0010783139664476472\n",
            "0.0010761166595566322\n",
            "0.0010739465761587584\n",
            "0.0010718033789690593\n",
            "0.0010696867348813559\n",
            "0.0010675963149164803\n",
            "0.0010655317941711479\n",
            "0.001063492851767455\n",
            "0.0010614791708030132\n",
            "0.001059490438301686\n",
            "0.0010575263451649485\n",
            "0.0010575263451649485\n",
            "0.0010555865861238503\n",
            "0.0010536708596915639\n",
            "0.001051778868116526\n",
            "0.001049910317336158\n",
            "0.0010480649169311688\n",
            "0.0010462423800804092\n",
            "0.0010444424235163021\n",
            "0.0010426647674807977\n",
            "0.0010409091356819089\n",
            "0.0010391752552507626\n",
            "0.0010391752552507626\n"
          ],
          "name": "stdout"
        }
      ]
    },
    {
      "cell_type": "code",
      "metadata": {
        "id": "kq96E9azQScd",
        "colab_type": "code",
        "outputId": "311ebaed-f7ad-41d3-c245-bd23f806e985",
        "colab": {
          "base_uri": "https://localhost:8080/",
          "height": 35
        }
      },
      "source": [
        "print(theta)"
      ],
      "execution_count": 0,
      "outputs": [
        {
          "output_type": "stream",
          "text": [
            "[0.2997216343636602, 0.12188678467324536]\n"
          ],
          "name": "stdout"
        }
      ]
    },
    {
      "cell_type": "code",
      "metadata": {
        "id": "8fbmmI0OQTz-",
        "colab_type": "code",
        "outputId": "fa5efbec-5ea4-430c-a098-5fee4db99c12",
        "colab": {
          "base_uri": "https://localhost:8080/",
          "height": 287
        }
      },
      "source": [
        "print(theta)\n",
        "plt.plot(x_data, y_data, 'ro')\n",
        "plt.plot(x_data, [x * theta[1] + theta[0] for x in x_data])\n",
        "\n",
        "plt.show()"
      ],
      "execution_count": 0,
      "outputs": [
        {
          "output_type": "stream",
          "text": [
            "[0.2997216343636602, 0.12188678467324536]\n"
          ],
          "name": "stdout"
        },
        {
          "output_type": "display_data",
          "data": {
            "image/png": "[encoded data removed]",
            "text/plain": [
              "<Figure size 432x288 with 1 Axes>"
            ]
          },
          "metadata": {
            "tags": []
          }
        }
      ]
    },
    {
      "cell_type": "code",
      "metadata": {
        "id": "hbDxldYiQZRm",
        "colab_type": "code",
        "colab": {}
      },
      "source": [
        ""
      ],
      "execution_count": 0,
      "outputs": []
    }
  ]
}